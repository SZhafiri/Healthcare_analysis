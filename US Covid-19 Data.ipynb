{
 "cells": [
  {
   "cell_type": "code",
   "execution_count": 1,
   "id": "0815d614",
   "metadata": {},
   "outputs": [],
   "source": [
    "import pandas as pd\n",
    "import numpy as np\n",
    "import matplotlib.pyplot as plt\n",
    "import seaborn as sns"
   ]
  },
  {
   "cell_type": "code",
   "execution_count": 2,
   "id": "ff9e01c0",
   "metadata": {},
   "outputs": [],
   "source": [
    "# https://github.com/nytimes/covid-19-data\n",
    "\n",
    "df_2020 = pd.read_csv('https://raw.githubusercontent.com/nytimes/covid-19-data/master/us-counties-2020.csv')\n",
    "df_2021 = pd.read_csv('https://raw.githubusercontent.com/nytimes/covid-19-data/master/us-counties-2021.csv')"
   ]
  },
  {
   "cell_type": "markdown",
   "id": "c37b8274",
   "metadata": {},
   "source": [
    "## 2020 Data"
   ]
  },
  {
   "cell_type": "code",
   "execution_count": 3,
   "id": "9ccb66d6",
   "metadata": {},
   "outputs": [
    {
     "data": {
      "text/html": [
       "<div>\n",
       "<style scoped>\n",
       "    .dataframe tbody tr th:only-of-type {\n",
       "        vertical-align: middle;\n",
       "    }\n",
       "\n",
       "    .dataframe tbody tr th {\n",
       "        vertical-align: top;\n",
       "    }\n",
       "\n",
       "    .dataframe thead th {\n",
       "        text-align: right;\n",
       "    }\n",
       "</style>\n",
       "<table border=\"1\" class=\"dataframe\">\n",
       "  <thead>\n",
       "    <tr style=\"text-align: right;\">\n",
       "      <th></th>\n",
       "      <th>date</th>\n",
       "      <th>county</th>\n",
       "      <th>state</th>\n",
       "      <th>fips</th>\n",
       "      <th>cases</th>\n",
       "      <th>deaths</th>\n",
       "    </tr>\n",
       "  </thead>\n",
       "  <tbody>\n",
       "    <tr>\n",
       "      <th>0</th>\n",
       "      <td>2020-01-21</td>\n",
       "      <td>Snohomish</td>\n",
       "      <td>Washington</td>\n",
       "      <td>53061.0</td>\n",
       "      <td>1</td>\n",
       "      <td>0.0</td>\n",
       "    </tr>\n",
       "    <tr>\n",
       "      <th>1</th>\n",
       "      <td>2020-01-22</td>\n",
       "      <td>Snohomish</td>\n",
       "      <td>Washington</td>\n",
       "      <td>53061.0</td>\n",
       "      <td>1</td>\n",
       "      <td>0.0</td>\n",
       "    </tr>\n",
       "    <tr>\n",
       "      <th>2</th>\n",
       "      <td>2020-01-23</td>\n",
       "      <td>Snohomish</td>\n",
       "      <td>Washington</td>\n",
       "      <td>53061.0</td>\n",
       "      <td>1</td>\n",
       "      <td>0.0</td>\n",
       "    </tr>\n",
       "    <tr>\n",
       "      <th>3</th>\n",
       "      <td>2020-01-24</td>\n",
       "      <td>Cook</td>\n",
       "      <td>Illinois</td>\n",
       "      <td>17031.0</td>\n",
       "      <td>1</td>\n",
       "      <td>0.0</td>\n",
       "    </tr>\n",
       "    <tr>\n",
       "      <th>4</th>\n",
       "      <td>2020-01-24</td>\n",
       "      <td>Snohomish</td>\n",
       "      <td>Washington</td>\n",
       "      <td>53061.0</td>\n",
       "      <td>1</td>\n",
       "      <td>0.0</td>\n",
       "    </tr>\n",
       "  </tbody>\n",
       "</table>\n",
       "</div>"
      ],
      "text/plain": [
       "         date     county       state     fips  cases  deaths\n",
       "0  2020-01-21  Snohomish  Washington  53061.0      1     0.0\n",
       "1  2020-01-22  Snohomish  Washington  53061.0      1     0.0\n",
       "2  2020-01-23  Snohomish  Washington  53061.0      1     0.0\n",
       "3  2020-01-24       Cook    Illinois  17031.0      1     0.0\n",
       "4  2020-01-24  Snohomish  Washington  53061.0      1     0.0"
      ]
     },
     "execution_count": 3,
     "metadata": {},
     "output_type": "execute_result"
    }
   ],
   "source": [
    "df_2020.head()"
   ]
  },
  {
   "cell_type": "code",
   "execution_count": 4,
   "id": "486dda51",
   "metadata": {},
   "outputs": [
    {
     "data": {
      "text/html": [
       "<div>\n",
       "<style scoped>\n",
       "    .dataframe tbody tr th:only-of-type {\n",
       "        vertical-align: middle;\n",
       "    }\n",
       "\n",
       "    .dataframe tbody tr th {\n",
       "        vertical-align: top;\n",
       "    }\n",
       "\n",
       "    .dataframe thead th {\n",
       "        text-align: right;\n",
       "    }\n",
       "</style>\n",
       "<table border=\"1\" class=\"dataframe\">\n",
       "  <thead>\n",
       "    <tr style=\"text-align: right;\">\n",
       "      <th></th>\n",
       "      <th>date</th>\n",
       "      <th>county</th>\n",
       "      <th>state</th>\n",
       "      <th>fips</th>\n",
       "      <th>cases</th>\n",
       "      <th>deaths</th>\n",
       "    </tr>\n",
       "  </thead>\n",
       "  <tbody>\n",
       "    <tr>\n",
       "      <th>884732</th>\n",
       "      <td>2020-12-31</td>\n",
       "      <td>Sweetwater</td>\n",
       "      <td>Wyoming</td>\n",
       "      <td>56037.0</td>\n",
       "      <td>2966</td>\n",
       "      <td>16.0</td>\n",
       "    </tr>\n",
       "    <tr>\n",
       "      <th>884733</th>\n",
       "      <td>2020-12-31</td>\n",
       "      <td>Teton</td>\n",
       "      <td>Wyoming</td>\n",
       "      <td>56039.0</td>\n",
       "      <td>2138</td>\n",
       "      <td>4.0</td>\n",
       "    </tr>\n",
       "    <tr>\n",
       "      <th>884734</th>\n",
       "      <td>2020-12-31</td>\n",
       "      <td>Uinta</td>\n",
       "      <td>Wyoming</td>\n",
       "      <td>56041.0</td>\n",
       "      <td>1558</td>\n",
       "      <td>7.0</td>\n",
       "    </tr>\n",
       "    <tr>\n",
       "      <th>884735</th>\n",
       "      <td>2020-12-31</td>\n",
       "      <td>Washakie</td>\n",
       "      <td>Wyoming</td>\n",
       "      <td>56043.0</td>\n",
       "      <td>780</td>\n",
       "      <td>19.0</td>\n",
       "    </tr>\n",
       "    <tr>\n",
       "      <th>884736</th>\n",
       "      <td>2020-12-31</td>\n",
       "      <td>Weston</td>\n",
       "      <td>Wyoming</td>\n",
       "      <td>56045.0</td>\n",
       "      <td>476</td>\n",
       "      <td>2.0</td>\n",
       "    </tr>\n",
       "  </tbody>\n",
       "</table>\n",
       "</div>"
      ],
      "text/plain": [
       "              date      county    state     fips  cases  deaths\n",
       "884732  2020-12-31  Sweetwater  Wyoming  56037.0   2966    16.0\n",
       "884733  2020-12-31       Teton  Wyoming  56039.0   2138     4.0\n",
       "884734  2020-12-31       Uinta  Wyoming  56041.0   1558     7.0\n",
       "884735  2020-12-31    Washakie  Wyoming  56043.0    780    19.0\n",
       "884736  2020-12-31      Weston  Wyoming  56045.0    476     2.0"
      ]
     },
     "execution_count": 4,
     "metadata": {},
     "output_type": "execute_result"
    }
   ],
   "source": [
    "df_2020.tail()"
   ]
  },
  {
   "cell_type": "code",
   "execution_count": 5,
   "id": "b877adce",
   "metadata": {},
   "outputs": [
    {
     "name": "stdout",
     "output_type": "stream",
     "text": [
      "<class 'pandas.core.frame.DataFrame'>\n",
      "RangeIndex: 884737 entries, 0 to 884736\n",
      "Data columns (total 6 columns):\n",
      " #   Column  Non-Null Count   Dtype  \n",
      "---  ------  --------------   -----  \n",
      " 0   date    884737 non-null  object \n",
      " 1   county  884737 non-null  object \n",
      " 2   state   884737 non-null  object \n",
      " 3   fips    876471 non-null  float64\n",
      " 4   cases   884737 non-null  int64  \n",
      " 5   deaths  865976 non-null  float64\n",
      "dtypes: float64(2), int64(1), object(3)\n",
      "memory usage: 40.5+ MB\n"
     ]
    }
   ],
   "source": [
    "df_2020.info()"
   ]
  },
  {
   "cell_type": "code",
   "execution_count": 6,
   "id": "884c60b5",
   "metadata": {},
   "outputs": [
    {
     "data": {
      "text/html": [
       "<div>\n",
       "<style scoped>\n",
       "    .dataframe tbody tr th:only-of-type {\n",
       "        vertical-align: middle;\n",
       "    }\n",
       "\n",
       "    .dataframe tbody tr th {\n",
       "        vertical-align: top;\n",
       "    }\n",
       "\n",
       "    .dataframe thead th {\n",
       "        text-align: right;\n",
       "    }\n",
       "</style>\n",
       "<table border=\"1\" class=\"dataframe\">\n",
       "  <thead>\n",
       "    <tr style=\"text-align: right;\">\n",
       "      <th></th>\n",
       "      <th>fips</th>\n",
       "      <th>cases</th>\n",
       "      <th>deaths</th>\n",
       "    </tr>\n",
       "  </thead>\n",
       "  <tbody>\n",
       "    <tr>\n",
       "      <th>count</th>\n",
       "      <td>876471.000000</td>\n",
       "      <td>884737.000000</td>\n",
       "      <td>865976.000000</td>\n",
       "    </tr>\n",
       "    <tr>\n",
       "      <th>mean</th>\n",
       "      <td>31262.223651</td>\n",
       "      <td>1952.319416</td>\n",
       "      <td>53.597080</td>\n",
       "    </tr>\n",
       "    <tr>\n",
       "      <th>std</th>\n",
       "      <td>16295.225594</td>\n",
       "      <td>10106.483465</td>\n",
       "      <td>451.856511</td>\n",
       "    </tr>\n",
       "    <tr>\n",
       "      <th>min</th>\n",
       "      <td>1001.000000</td>\n",
       "      <td>0.000000</td>\n",
       "      <td>0.000000</td>\n",
       "    </tr>\n",
       "    <tr>\n",
       "      <th>25%</th>\n",
       "      <td>18183.000000</td>\n",
       "      <td>36.000000</td>\n",
       "      <td>0.000000</td>\n",
       "    </tr>\n",
       "    <tr>\n",
       "      <th>50%</th>\n",
       "      <td>29215.000000</td>\n",
       "      <td>228.000000</td>\n",
       "      <td>4.000000</td>\n",
       "    </tr>\n",
       "    <tr>\n",
       "      <th>75%</th>\n",
       "      <td>46099.000000</td>\n",
       "      <td>993.000000</td>\n",
       "      <td>21.000000</td>\n",
       "    </tr>\n",
       "    <tr>\n",
       "      <th>max</th>\n",
       "      <td>78030.000000</td>\n",
       "      <td>770915.000000</td>\n",
       "      <td>25144.000000</td>\n",
       "    </tr>\n",
       "  </tbody>\n",
       "</table>\n",
       "</div>"
      ],
      "text/plain": [
       "                fips          cases         deaths\n",
       "count  876471.000000  884737.000000  865976.000000\n",
       "mean    31262.223651    1952.319416      53.597080\n",
       "std     16295.225594   10106.483465     451.856511\n",
       "min      1001.000000       0.000000       0.000000\n",
       "25%     18183.000000      36.000000       0.000000\n",
       "50%     29215.000000     228.000000       4.000000\n",
       "75%     46099.000000     993.000000      21.000000\n",
       "max     78030.000000  770915.000000   25144.000000"
      ]
     },
     "execution_count": 6,
     "metadata": {},
     "output_type": "execute_result"
    }
   ],
   "source": [
    "df_2020.describe()"
   ]
  },
  {
   "cell_type": "code",
   "execution_count": 7,
   "id": "b9869499",
   "metadata": {},
   "outputs": [
    {
     "data": {
      "text/plain": [
       "(884737, 6)"
      ]
     },
     "execution_count": 7,
     "metadata": {},
     "output_type": "execute_result"
    }
   ],
   "source": [
    "df_2020.shape"
   ]
  },
  {
   "cell_type": "code",
   "execution_count": 8,
   "id": "24bfa9f2",
   "metadata": {},
   "outputs": [
    {
     "data": {
      "text/plain": [
       "Index(['date', 'county', 'state', 'fips', 'cases', 'deaths'], dtype='object')"
      ]
     },
     "execution_count": 8,
     "metadata": {},
     "output_type": "execute_result"
    }
   ],
   "source": [
    "df_2020.columns"
   ]
  },
  {
   "cell_type": "markdown",
   "id": "81885add",
   "metadata": {},
   "source": [
    "FIPS or Federal Information Processing Standard is a standard geographic identifier, to make it easier for an analyst to combine this data with other data sets like a map file or population data."
   ]
  },
  {
   "cell_type": "code",
   "execution_count": 9,
   "id": "a5154a7e",
   "metadata": {},
   "outputs": [
    {
     "data": {
      "text/plain": [
       "date          0\n",
       "county        0\n",
       "state         0\n",
       "fips       8266\n",
       "cases         0\n",
       "deaths    18761\n",
       "dtype: int64"
      ]
     },
     "execution_count": 9,
     "metadata": {},
     "output_type": "execute_result"
    }
   ],
   "source": [
    "df_2020.isnull().sum()"
   ]
  },
  {
   "cell_type": "code",
   "execution_count": 10,
   "id": "a5515ef7",
   "metadata": {},
   "outputs": [
    {
     "data": {
      "text/plain": [
       "0"
      ]
     },
     "execution_count": 10,
     "metadata": {},
     "output_type": "execute_result"
    }
   ],
   "source": [
    "df_2020.duplicated().sum()"
   ]
  },
  {
   "cell_type": "markdown",
   "id": "645c1625",
   "metadata": {},
   "source": [
    "## 2021 Data"
   ]
  },
  {
   "cell_type": "code",
   "execution_count": 11,
   "id": "4b3ae9ac",
   "metadata": {},
   "outputs": [
    {
     "data": {
      "text/html": [
       "<div>\n",
       "<style scoped>\n",
       "    .dataframe tbody tr th:only-of-type {\n",
       "        vertical-align: middle;\n",
       "    }\n",
       "\n",
       "    .dataframe tbody tr th {\n",
       "        vertical-align: top;\n",
       "    }\n",
       "\n",
       "    .dataframe thead th {\n",
       "        text-align: right;\n",
       "    }\n",
       "</style>\n",
       "<table border=\"1\" class=\"dataframe\">\n",
       "  <thead>\n",
       "    <tr style=\"text-align: right;\">\n",
       "      <th></th>\n",
       "      <th>date</th>\n",
       "      <th>county</th>\n",
       "      <th>state</th>\n",
       "      <th>fips</th>\n",
       "      <th>cases</th>\n",
       "      <th>deaths</th>\n",
       "    </tr>\n",
       "  </thead>\n",
       "  <tbody>\n",
       "    <tr>\n",
       "      <th>0</th>\n",
       "      <td>2021-01-01</td>\n",
       "      <td>Autauga</td>\n",
       "      <td>Alabama</td>\n",
       "      <td>1001.0</td>\n",
       "      <td>4239</td>\n",
       "      <td>50.0</td>\n",
       "    </tr>\n",
       "    <tr>\n",
       "      <th>1</th>\n",
       "      <td>2021-01-01</td>\n",
       "      <td>Baldwin</td>\n",
       "      <td>Alabama</td>\n",
       "      <td>1003.0</td>\n",
       "      <td>13823</td>\n",
       "      <td>169.0</td>\n",
       "    </tr>\n",
       "    <tr>\n",
       "      <th>2</th>\n",
       "      <td>2021-01-01</td>\n",
       "      <td>Barbour</td>\n",
       "      <td>Alabama</td>\n",
       "      <td>1005.0</td>\n",
       "      <td>1517</td>\n",
       "      <td>33.0</td>\n",
       "    </tr>\n",
       "    <tr>\n",
       "      <th>3</th>\n",
       "      <td>2021-01-01</td>\n",
       "      <td>Bibb</td>\n",
       "      <td>Alabama</td>\n",
       "      <td>1007.0</td>\n",
       "      <td>1854</td>\n",
       "      <td>46.0</td>\n",
       "    </tr>\n",
       "    <tr>\n",
       "      <th>4</th>\n",
       "      <td>2021-01-01</td>\n",
       "      <td>Blount</td>\n",
       "      <td>Alabama</td>\n",
       "      <td>1009.0</td>\n",
       "      <td>4693</td>\n",
       "      <td>63.0</td>\n",
       "    </tr>\n",
       "  </tbody>\n",
       "</table>\n",
       "</div>"
      ],
      "text/plain": [
       "         date   county    state    fips  cases  deaths\n",
       "0  2021-01-01  Autauga  Alabama  1001.0   4239    50.0\n",
       "1  2021-01-01  Baldwin  Alabama  1003.0  13823   169.0\n",
       "2  2021-01-01  Barbour  Alabama  1005.0   1517    33.0\n",
       "3  2021-01-01     Bibb  Alabama  1007.0   1854    46.0\n",
       "4  2021-01-01   Blount  Alabama  1009.0   4693    63.0"
      ]
     },
     "execution_count": 11,
     "metadata": {},
     "output_type": "execute_result"
    }
   ],
   "source": [
    "df_2021.head()"
   ]
  },
  {
   "cell_type": "code",
   "execution_count": 12,
   "id": "9c4d4f9f",
   "metadata": {},
   "outputs": [
    {
     "data": {
      "text/html": [
       "<div>\n",
       "<style scoped>\n",
       "    .dataframe tbody tr th:only-of-type {\n",
       "        vertical-align: middle;\n",
       "    }\n",
       "\n",
       "    .dataframe tbody tr th {\n",
       "        vertical-align: top;\n",
       "    }\n",
       "\n",
       "    .dataframe thead th {\n",
       "        text-align: right;\n",
       "    }\n",
       "</style>\n",
       "<table border=\"1\" class=\"dataframe\">\n",
       "  <thead>\n",
       "    <tr style=\"text-align: right;\">\n",
       "      <th></th>\n",
       "      <th>date</th>\n",
       "      <th>county</th>\n",
       "      <th>state</th>\n",
       "      <th>fips</th>\n",
       "      <th>cases</th>\n",
       "      <th>deaths</th>\n",
       "    </tr>\n",
       "  </thead>\n",
       "  <tbody>\n",
       "    <tr>\n",
       "      <th>1185368</th>\n",
       "      <td>2021-12-31</td>\n",
       "      <td>Sweetwater</td>\n",
       "      <td>Wyoming</td>\n",
       "      <td>56037.0</td>\n",
       "      <td>8320</td>\n",
       "      <td>107.0</td>\n",
       "    </tr>\n",
       "    <tr>\n",
       "      <th>1185369</th>\n",
       "      <td>2021-12-31</td>\n",
       "      <td>Teton</td>\n",
       "      <td>Wyoming</td>\n",
       "      <td>56039.0</td>\n",
       "      <td>5950</td>\n",
       "      <td>14.0</td>\n",
       "    </tr>\n",
       "    <tr>\n",
       "      <th>1185370</th>\n",
       "      <td>2021-12-31</td>\n",
       "      <td>Uinta</td>\n",
       "      <td>Wyoming</td>\n",
       "      <td>56041.0</td>\n",
       "      <td>4154</td>\n",
       "      <td>31.0</td>\n",
       "    </tr>\n",
       "    <tr>\n",
       "      <th>1185371</th>\n",
       "      <td>2021-12-31</td>\n",
       "      <td>Washakie</td>\n",
       "      <td>Wyoming</td>\n",
       "      <td>56043.0</td>\n",
       "      <td>1879</td>\n",
       "      <td>37.0</td>\n",
       "    </tr>\n",
       "    <tr>\n",
       "      <th>1185372</th>\n",
       "      <td>2021-12-31</td>\n",
       "      <td>Weston</td>\n",
       "      <td>Wyoming</td>\n",
       "      <td>56045.0</td>\n",
       "      <td>1254</td>\n",
       "      <td>14.0</td>\n",
       "    </tr>\n",
       "  </tbody>\n",
       "</table>\n",
       "</div>"
      ],
      "text/plain": [
       "               date      county    state     fips  cases  deaths\n",
       "1185368  2021-12-31  Sweetwater  Wyoming  56037.0   8320   107.0\n",
       "1185369  2021-12-31       Teton  Wyoming  56039.0   5950    14.0\n",
       "1185370  2021-12-31       Uinta  Wyoming  56041.0   4154    31.0\n",
       "1185371  2021-12-31    Washakie  Wyoming  56043.0   1879    37.0\n",
       "1185372  2021-12-31      Weston  Wyoming  56045.0   1254    14.0"
      ]
     },
     "execution_count": 12,
     "metadata": {},
     "output_type": "execute_result"
    }
   ],
   "source": [
    "df_2021.tail()"
   ]
  },
  {
   "cell_type": "code",
   "execution_count": 13,
   "id": "3c5a9824",
   "metadata": {},
   "outputs": [
    {
     "name": "stdout",
     "output_type": "stream",
     "text": [
      "<class 'pandas.core.frame.DataFrame'>\n",
      "RangeIndex: 1185373 entries, 0 to 1185372\n",
      "Data columns (total 6 columns):\n",
      " #   Column  Non-Null Count    Dtype  \n",
      "---  ------  --------------    -----  \n",
      " 0   date    1185373 non-null  object \n",
      " 1   county  1185373 non-null  object \n",
      " 2   state   1185373 non-null  object \n",
      " 3   fips    1174570 non-null  float64\n",
      " 4   cases   1185373 non-null  int64  \n",
      " 5   deaths  1156903 non-null  float64\n",
      "dtypes: float64(2), int64(1), object(3)\n",
      "memory usage: 54.3+ MB\n"
     ]
    }
   ],
   "source": [
    "df_2021.info()"
   ]
  },
  {
   "cell_type": "code",
   "execution_count": 14,
   "id": "5d7b8c12",
   "metadata": {},
   "outputs": [
    {
     "data": {
      "text/html": [
       "<div>\n",
       "<style scoped>\n",
       "    .dataframe tbody tr th:only-of-type {\n",
       "        vertical-align: middle;\n",
       "    }\n",
       "\n",
       "    .dataframe tbody tr th {\n",
       "        vertical-align: top;\n",
       "    }\n",
       "\n",
       "    .dataframe thead th {\n",
       "        text-align: right;\n",
       "    }\n",
       "</style>\n",
       "<table border=\"1\" class=\"dataframe\">\n",
       "  <thead>\n",
       "    <tr style=\"text-align: right;\">\n",
       "      <th></th>\n",
       "      <th>fips</th>\n",
       "      <th>cases</th>\n",
       "      <th>deaths</th>\n",
       "    </tr>\n",
       "  </thead>\n",
       "  <tbody>\n",
       "    <tr>\n",
       "      <th>count</th>\n",
       "      <td>1.174570e+06</td>\n",
       "      <td>1.185373e+06</td>\n",
       "      <td>1.156903e+06</td>\n",
       "    </tr>\n",
       "    <tr>\n",
       "      <th>mean</th>\n",
       "      <td>3.147197e+04</td>\n",
       "      <td>1.116031e+04</td>\n",
       "      <td>1.936092e+02</td>\n",
       "    </tr>\n",
       "    <tr>\n",
       "      <th>std</th>\n",
       "      <td>1.636533e+04</td>\n",
       "      <td>4.218921e+04</td>\n",
       "      <td>8.812527e+02</td>\n",
       "    </tr>\n",
       "    <tr>\n",
       "      <th>min</th>\n",
       "      <td>1.001000e+03</td>\n",
       "      <td>0.000000e+00</td>\n",
       "      <td>0.000000e+00</td>\n",
       "    </tr>\n",
       "    <tr>\n",
       "      <th>25%</th>\n",
       "      <td>1.903500e+04</td>\n",
       "      <td>1.136000e+03</td>\n",
       "      <td>2.000000e+01</td>\n",
       "    </tr>\n",
       "    <tr>\n",
       "      <th>50%</th>\n",
       "      <td>3.002600e+04</td>\n",
       "      <td>2.778000e+03</td>\n",
       "      <td>5.200000e+01</td>\n",
       "    </tr>\n",
       "    <tr>\n",
       "      <th>75%</th>\n",
       "      <td>4.611900e+04</td>\n",
       "      <td>7.340000e+03</td>\n",
       "      <td>1.250000e+02</td>\n",
       "    </tr>\n",
       "    <tr>\n",
       "      <th>max</th>\n",
       "      <td>7.803000e+04</td>\n",
       "      <td>1.697286e+06</td>\n",
       "      <td>3.538200e+04</td>\n",
       "    </tr>\n",
       "  </tbody>\n",
       "</table>\n",
       "</div>"
      ],
      "text/plain": [
       "               fips         cases        deaths\n",
       "count  1.174570e+06  1.185373e+06  1.156903e+06\n",
       "mean   3.147197e+04  1.116031e+04  1.936092e+02\n",
       "std    1.636533e+04  4.218921e+04  8.812527e+02\n",
       "min    1.001000e+03  0.000000e+00  0.000000e+00\n",
       "25%    1.903500e+04  1.136000e+03  2.000000e+01\n",
       "50%    3.002600e+04  2.778000e+03  5.200000e+01\n",
       "75%    4.611900e+04  7.340000e+03  1.250000e+02\n",
       "max    7.803000e+04  1.697286e+06  3.538200e+04"
      ]
     },
     "execution_count": 14,
     "metadata": {},
     "output_type": "execute_result"
    }
   ],
   "source": [
    "df_2021.describe()"
   ]
  },
  {
   "cell_type": "code",
   "execution_count": 15,
   "id": "b19816a5",
   "metadata": {},
   "outputs": [
    {
     "data": {
      "text/plain": [
       "(1185373, 6)"
      ]
     },
     "execution_count": 15,
     "metadata": {},
     "output_type": "execute_result"
    }
   ],
   "source": [
    "df_2021.shape"
   ]
  },
  {
   "cell_type": "code",
   "execution_count": 16,
   "id": "5f9964be",
   "metadata": {},
   "outputs": [
    {
     "data": {
      "text/plain": [
       "Index(['date', 'county', 'state', 'fips', 'cases', 'deaths'], dtype='object')"
      ]
     },
     "execution_count": 16,
     "metadata": {},
     "output_type": "execute_result"
    }
   ],
   "source": [
    "df_2021.columns"
   ]
  },
  {
   "cell_type": "code",
   "execution_count": 17,
   "id": "398505a9",
   "metadata": {},
   "outputs": [
    {
     "data": {
      "text/plain": [
       "date          0\n",
       "county        0\n",
       "state         0\n",
       "fips      10803\n",
       "cases         0\n",
       "deaths    28470\n",
       "dtype: int64"
      ]
     },
     "execution_count": 17,
     "metadata": {},
     "output_type": "execute_result"
    }
   ],
   "source": [
    "df_2021.isnull().sum()"
   ]
  },
  {
   "cell_type": "code",
   "execution_count": 18,
   "id": "9864b687",
   "metadata": {},
   "outputs": [
    {
     "data": {
      "text/plain": [
       "0"
      ]
     },
     "execution_count": 18,
     "metadata": {},
     "output_type": "execute_result"
    }
   ],
   "source": [
    "df_2021.duplicated().sum()"
   ]
  },
  {
   "cell_type": "markdown",
   "id": "a056a41a",
   "metadata": {},
   "source": [
    "###############################################################################################################################"
   ]
  },
  {
   "cell_type": "code",
   "execution_count": 19,
   "id": "ff579406",
   "metadata": {},
   "outputs": [
    {
     "data": {
      "text/plain": [
       "55"
      ]
     },
     "execution_count": 19,
     "metadata": {},
     "output_type": "execute_result"
    }
   ],
   "source": [
    "df_2020['state'].nunique()"
   ]
  },
  {
   "cell_type": "code",
   "execution_count": 20,
   "id": "1da9a6f6",
   "metadata": {},
   "outputs": [
    {
     "data": {
      "text/plain": [
       "56"
      ]
     },
     "execution_count": 20,
     "metadata": {},
     "output_type": "execute_result"
    }
   ],
   "source": [
    "df_2021['state'].nunique()"
   ]
  },
  {
   "cell_type": "markdown",
   "id": "fb8b57ff",
   "metadata": {},
   "source": [
    "Fillin deaths missing values"
   ]
  },
  {
   "cell_type": "code",
   "execution_count": 21,
   "id": "1aff29b5",
   "metadata": {},
   "outputs": [],
   "source": [
    "df_2020['deaths'].fillna('0', inplace=True)\n",
    "\n",
    "df_2021['deaths'].fillna('0', inplace=True)"
   ]
  },
  {
   "cell_type": "code",
   "execution_count": 22,
   "id": "73f23601",
   "metadata": {},
   "outputs": [
    {
     "data": {
      "text/plain": [
       "0"
      ]
     },
     "execution_count": 22,
     "metadata": {},
     "output_type": "execute_result"
    }
   ],
   "source": [
    "df_2020['deaths'].isnull().sum()"
   ]
  },
  {
   "cell_type": "code",
   "execution_count": 23,
   "id": "b96cf380",
   "metadata": {},
   "outputs": [
    {
     "data": {
      "text/plain": [
       "0"
      ]
     },
     "execution_count": 23,
     "metadata": {},
     "output_type": "execute_result"
    }
   ],
   "source": [
    "df_2021['deaths'].isnull().sum()"
   ]
  },
  {
   "cell_type": "markdown",
   "id": "b020ee12",
   "metadata": {},
   "source": [
    "Change deaths data type from float to int"
   ]
  },
  {
   "cell_type": "code",
   "execution_count": 24,
   "id": "2d957da3",
   "metadata": {},
   "outputs": [],
   "source": [
    "df_2020['deaths'] = df_2020['deaths'].astype(int)\n",
    "\n",
    "df_2021['deaths'] = df_2021['deaths'].astype(int)"
   ]
  },
  {
   "cell_type": "markdown",
   "id": "9dce74b2",
   "metadata": {},
   "source": [
    "## Q1: In what month did the highest number of Covid-19 cases and deaths occur?"
   ]
  },
  {
   "cell_type": "code",
   "execution_count": 25,
   "id": "d6999d7c",
   "metadata": {},
   "outputs": [],
   "source": [
    "df_2020['date'] = pd.to_datetime(df_2020['date'])\n",
    "\n",
    "df_2021['date'] = pd.to_datetime(df_2021['date'])"
   ]
  },
  {
   "cell_type": "code",
   "execution_count": 26,
   "id": "f9297e67",
   "metadata": {},
   "outputs": [],
   "source": [
    "df_2020['day'] = df_2020['date'].dt.strftime('%d')\n",
    "df_2020['month'] = df_2020['date'].dt.strftime('%m')\n",
    "\n",
    "df_2021['day'] = df_2021['date'].dt.strftime('%d')\n",
    "df_2021['month'] = df_2021['date'].dt.strftime('%m')"
   ]
  },
  {
   "cell_type": "code",
   "execution_count": 27,
   "id": "f7fa647c",
   "metadata": {},
   "outputs": [
    {
     "data": {
      "text/html": [
       "<div>\n",
       "<style scoped>\n",
       "    .dataframe tbody tr th:only-of-type {\n",
       "        vertical-align: middle;\n",
       "    }\n",
       "\n",
       "    .dataframe tbody tr th {\n",
       "        vertical-align: top;\n",
       "    }\n",
       "\n",
       "    .dataframe thead th {\n",
       "        text-align: right;\n",
       "    }\n",
       "</style>\n",
       "<table border=\"1\" class=\"dataframe\">\n",
       "  <thead>\n",
       "    <tr style=\"text-align: right;\">\n",
       "      <th></th>\n",
       "      <th>date</th>\n",
       "      <th>county</th>\n",
       "      <th>state</th>\n",
       "      <th>fips</th>\n",
       "      <th>cases</th>\n",
       "      <th>deaths</th>\n",
       "      <th>day</th>\n",
       "      <th>month</th>\n",
       "    </tr>\n",
       "  </thead>\n",
       "  <tbody>\n",
       "    <tr>\n",
       "      <th>0</th>\n",
       "      <td>2020-01-21</td>\n",
       "      <td>Snohomish</td>\n",
       "      <td>Washington</td>\n",
       "      <td>53061.0</td>\n",
       "      <td>1</td>\n",
       "      <td>0</td>\n",
       "      <td>21</td>\n",
       "      <td>01</td>\n",
       "    </tr>\n",
       "    <tr>\n",
       "      <th>1</th>\n",
       "      <td>2020-01-22</td>\n",
       "      <td>Snohomish</td>\n",
       "      <td>Washington</td>\n",
       "      <td>53061.0</td>\n",
       "      <td>1</td>\n",
       "      <td>0</td>\n",
       "      <td>22</td>\n",
       "      <td>01</td>\n",
       "    </tr>\n",
       "    <tr>\n",
       "      <th>2</th>\n",
       "      <td>2020-01-23</td>\n",
       "      <td>Snohomish</td>\n",
       "      <td>Washington</td>\n",
       "      <td>53061.0</td>\n",
       "      <td>1</td>\n",
       "      <td>0</td>\n",
       "      <td>23</td>\n",
       "      <td>01</td>\n",
       "    </tr>\n",
       "    <tr>\n",
       "      <th>3</th>\n",
       "      <td>2020-01-24</td>\n",
       "      <td>Cook</td>\n",
       "      <td>Illinois</td>\n",
       "      <td>17031.0</td>\n",
       "      <td>1</td>\n",
       "      <td>0</td>\n",
       "      <td>24</td>\n",
       "      <td>01</td>\n",
       "    </tr>\n",
       "    <tr>\n",
       "      <th>4</th>\n",
       "      <td>2020-01-24</td>\n",
       "      <td>Snohomish</td>\n",
       "      <td>Washington</td>\n",
       "      <td>53061.0</td>\n",
       "      <td>1</td>\n",
       "      <td>0</td>\n",
       "      <td>24</td>\n",
       "      <td>01</td>\n",
       "    </tr>\n",
       "  </tbody>\n",
       "</table>\n",
       "</div>"
      ],
      "text/plain": [
       "        date     county       state     fips  cases  deaths day month\n",
       "0 2020-01-21  Snohomish  Washington  53061.0      1       0  21    01\n",
       "1 2020-01-22  Snohomish  Washington  53061.0      1       0  22    01\n",
       "2 2020-01-23  Snohomish  Washington  53061.0      1       0  23    01\n",
       "3 2020-01-24       Cook    Illinois  17031.0      1       0  24    01\n",
       "4 2020-01-24  Snohomish  Washington  53061.0      1       0  24    01"
      ]
     },
     "execution_count": 27,
     "metadata": {},
     "output_type": "execute_result"
    }
   ],
   "source": [
    "df_2020.head()"
   ]
  },
  {
   "cell_type": "code",
   "execution_count": 28,
   "id": "9e408053",
   "metadata": {},
   "outputs": [
    {
     "data": {
      "text/html": [
       "<div>\n",
       "<style scoped>\n",
       "    .dataframe tbody tr th:only-of-type {\n",
       "        vertical-align: middle;\n",
       "    }\n",
       "\n",
       "    .dataframe tbody tr th {\n",
       "        vertical-align: top;\n",
       "    }\n",
       "\n",
       "    .dataframe thead th {\n",
       "        text-align: right;\n",
       "    }\n",
       "</style>\n",
       "<table border=\"1\" class=\"dataframe\">\n",
       "  <thead>\n",
       "    <tr style=\"text-align: right;\">\n",
       "      <th></th>\n",
       "      <th>fips</th>\n",
       "      <th>cases</th>\n",
       "      <th>deaths</th>\n",
       "    </tr>\n",
       "    <tr>\n",
       "      <th>month</th>\n",
       "      <th></th>\n",
       "      <th></th>\n",
       "      <th></th>\n",
       "    </tr>\n",
       "  </thead>\n",
       "  <tbody>\n",
       "    <tr>\n",
       "      <th>01</th>\n",
       "      <td>8.287170e+05</td>\n",
       "      <td>41</td>\n",
       "      <td>0</td>\n",
       "    </tr>\n",
       "    <tr>\n",
       "      <th>02</th>\n",
       "      <td>7.313369e+06</td>\n",
       "      <td>736</td>\n",
       "      <td>1</td>\n",
       "    </tr>\n",
       "    <tr>\n",
       "      <th>03</th>\n",
       "      <td>6.755115e+08</td>\n",
       "      <td>1095533</td>\n",
       "      <td>20269</td>\n",
       "    </tr>\n",
       "    <tr>\n",
       "      <th>04</th>\n",
       "      <td>2.380914e+09</td>\n",
       "      <td>19611708</td>\n",
       "      <td>990492</td>\n",
       "    </tr>\n",
       "    <tr>\n",
       "      <th>05</th>\n",
       "      <td>2.882141e+09</td>\n",
       "      <td>45452114</td>\n",
       "      <td>2695246</td>\n",
       "    </tr>\n",
       "    <tr>\n",
       "      <th>06</th>\n",
       "      <td>2.910973e+09</td>\n",
       "      <td>65288844</td>\n",
       "      <td>3498937</td>\n",
       "    </tr>\n",
       "    <tr>\n",
       "      <th>07</th>\n",
       "      <td>3.085395e+09</td>\n",
       "      <td>111626136</td>\n",
       "      <td>4307836</td>\n",
       "    </tr>\n",
       "    <tr>\n",
       "      <th>08</th>\n",
       "      <td>3.118860e+09</td>\n",
       "      <td>166758528</td>\n",
       "      <td>5259820</td>\n",
       "    </tr>\n",
       "    <tr>\n",
       "      <th>09</th>\n",
       "      <td>3.026964e+09</td>\n",
       "      <td>199758786</td>\n",
       "      <td>5879775</td>\n",
       "    </tr>\n",
       "    <tr>\n",
       "      <th>10</th>\n",
       "      <td>3.135389e+09</td>\n",
       "      <td>252794114</td>\n",
       "      <td>6774225</td>\n",
       "    </tr>\n",
       "    <tr>\n",
       "      <th>11</th>\n",
       "      <td>3.036697e+09</td>\n",
       "      <td>338932078</td>\n",
       "      <td>7449571</td>\n",
       "    </tr>\n",
       "    <tr>\n",
       "      <th>12</th>\n",
       "      <td>3.139446e+09</td>\n",
       "      <td>525970605</td>\n",
       "      <td>9537613</td>\n",
       "    </tr>\n",
       "  </tbody>\n",
       "</table>\n",
       "</div>"
      ],
      "text/plain": [
       "               fips      cases   deaths\n",
       "month                                  \n",
       "01     8.287170e+05         41        0\n",
       "02     7.313369e+06        736        1\n",
       "03     6.755115e+08    1095533    20269\n",
       "04     2.380914e+09   19611708   990492\n",
       "05     2.882141e+09   45452114  2695246\n",
       "06     2.910973e+09   65288844  3498937\n",
       "07     3.085395e+09  111626136  4307836\n",
       "08     3.118860e+09  166758528  5259820\n",
       "09     3.026964e+09  199758786  5879775\n",
       "10     3.135389e+09  252794114  6774225\n",
       "11     3.036697e+09  338932078  7449571\n",
       "12     3.139446e+09  525970605  9537613"
      ]
     },
     "execution_count": 28,
     "metadata": {},
     "output_type": "execute_result"
    }
   ],
   "source": [
    "df_2020.groupby('month').sum()"
   ]
  },
  {
   "cell_type": "markdown",
   "id": "39061b22",
   "metadata": {},
   "source": [
    "The highest Covid-19 cases and deaths in 2020 occurred in the 12th month (December)."
   ]
  },
  {
   "cell_type": "code",
   "execution_count": 29,
   "id": "e1750677",
   "metadata": {},
   "outputs": [
    {
     "data": {
      "text/html": [
       "<div>\n",
       "<style scoped>\n",
       "    .dataframe tbody tr th:only-of-type {\n",
       "        vertical-align: middle;\n",
       "    }\n",
       "\n",
       "    .dataframe tbody tr th {\n",
       "        vertical-align: top;\n",
       "    }\n",
       "\n",
       "    .dataframe thead th {\n",
       "        text-align: right;\n",
       "    }\n",
       "</style>\n",
       "<table border=\"1\" class=\"dataframe\">\n",
       "  <thead>\n",
       "    <tr style=\"text-align: right;\">\n",
       "      <th></th>\n",
       "      <th>date</th>\n",
       "      <th>county</th>\n",
       "      <th>state</th>\n",
       "      <th>fips</th>\n",
       "      <th>cases</th>\n",
       "      <th>deaths</th>\n",
       "      <th>day</th>\n",
       "      <th>month</th>\n",
       "    </tr>\n",
       "  </thead>\n",
       "  <tbody>\n",
       "    <tr>\n",
       "      <th>0</th>\n",
       "      <td>2021-01-01</td>\n",
       "      <td>Autauga</td>\n",
       "      <td>Alabama</td>\n",
       "      <td>1001.0</td>\n",
       "      <td>4239</td>\n",
       "      <td>50</td>\n",
       "      <td>01</td>\n",
       "      <td>01</td>\n",
       "    </tr>\n",
       "    <tr>\n",
       "      <th>1</th>\n",
       "      <td>2021-01-01</td>\n",
       "      <td>Baldwin</td>\n",
       "      <td>Alabama</td>\n",
       "      <td>1003.0</td>\n",
       "      <td>13823</td>\n",
       "      <td>169</td>\n",
       "      <td>01</td>\n",
       "      <td>01</td>\n",
       "    </tr>\n",
       "    <tr>\n",
       "      <th>2</th>\n",
       "      <td>2021-01-01</td>\n",
       "      <td>Barbour</td>\n",
       "      <td>Alabama</td>\n",
       "      <td>1005.0</td>\n",
       "      <td>1517</td>\n",
       "      <td>33</td>\n",
       "      <td>01</td>\n",
       "      <td>01</td>\n",
       "    </tr>\n",
       "    <tr>\n",
       "      <th>3</th>\n",
       "      <td>2021-01-01</td>\n",
       "      <td>Bibb</td>\n",
       "      <td>Alabama</td>\n",
       "      <td>1007.0</td>\n",
       "      <td>1854</td>\n",
       "      <td>46</td>\n",
       "      <td>01</td>\n",
       "      <td>01</td>\n",
       "    </tr>\n",
       "    <tr>\n",
       "      <th>4</th>\n",
       "      <td>2021-01-01</td>\n",
       "      <td>Blount</td>\n",
       "      <td>Alabama</td>\n",
       "      <td>1009.0</td>\n",
       "      <td>4693</td>\n",
       "      <td>63</td>\n",
       "      <td>01</td>\n",
       "      <td>01</td>\n",
       "    </tr>\n",
       "  </tbody>\n",
       "</table>\n",
       "</div>"
      ],
      "text/plain": [
       "        date   county    state    fips  cases  deaths day month\n",
       "0 2021-01-01  Autauga  Alabama  1001.0   4239      50  01    01\n",
       "1 2021-01-01  Baldwin  Alabama  1003.0  13823     169  01    01\n",
       "2 2021-01-01  Barbour  Alabama  1005.0   1517      33  01    01\n",
       "3 2021-01-01     Bibb  Alabama  1007.0   1854      46  01    01\n",
       "4 2021-01-01   Blount  Alabama  1009.0   4693      63  01    01"
      ]
     },
     "execution_count": 29,
     "metadata": {},
     "output_type": "execute_result"
    }
   ],
   "source": [
    "df_2021.head()"
   ]
  },
  {
   "cell_type": "code",
   "execution_count": 30,
   "id": "7e45ed9d",
   "metadata": {},
   "outputs": [
    {
     "data": {
      "text/html": [
       "<div>\n",
       "<style scoped>\n",
       "    .dataframe tbody tr th:only-of-type {\n",
       "        vertical-align: middle;\n",
       "    }\n",
       "\n",
       "    .dataframe tbody tr th {\n",
       "        vertical-align: top;\n",
       "    }\n",
       "\n",
       "    .dataframe thead th {\n",
       "        text-align: right;\n",
       "    }\n",
       "</style>\n",
       "<table border=\"1\" class=\"dataframe\">\n",
       "  <thead>\n",
       "    <tr style=\"text-align: right;\">\n",
       "      <th></th>\n",
       "      <th>fips</th>\n",
       "      <th>cases</th>\n",
       "      <th>deaths</th>\n",
       "    </tr>\n",
       "    <tr>\n",
       "      <th>month</th>\n",
       "      <th></th>\n",
       "      <th></th>\n",
       "      <th></th>\n",
       "    </tr>\n",
       "  </thead>\n",
       "  <tbody>\n",
       "    <tr>\n",
       "      <th>01</th>\n",
       "      <td>3.139581e+09</td>\n",
       "      <td>729984096</td>\n",
       "      <td>12216246</td>\n",
       "    </tr>\n",
       "    <tr>\n",
       "      <th>02</th>\n",
       "      <td>2.835751e+09</td>\n",
       "      <td>773617710</td>\n",
       "      <td>13511297</td>\n",
       "    </tr>\n",
       "    <tr>\n",
       "      <th>03</th>\n",
       "      <td>3.139581e+09</td>\n",
       "      <td>916857453</td>\n",
       "      <td>16598944</td>\n",
       "    </tr>\n",
       "    <tr>\n",
       "      <th>04</th>\n",
       "      <td>3.038304e+09</td>\n",
       "      <td>944997168</td>\n",
       "      <td>16938795</td>\n",
       "    </tr>\n",
       "    <tr>\n",
       "      <th>05</th>\n",
       "      <td>3.139581e+09</td>\n",
       "      <td>1020501942</td>\n",
       "      <td>18153720</td>\n",
       "    </tr>\n",
       "    <tr>\n",
       "      <th>06</th>\n",
       "      <td>3.038304e+09</td>\n",
       "      <td>1003878600</td>\n",
       "      <td>18001792</td>\n",
       "    </tr>\n",
       "    <tr>\n",
       "      <th>07</th>\n",
       "      <td>3.139581e+09</td>\n",
       "      <td>1059339596</td>\n",
       "      <td>18857887</td>\n",
       "    </tr>\n",
       "    <tr>\n",
       "      <th>08</th>\n",
       "      <td>3.139581e+09</td>\n",
       "      <td>1148978762</td>\n",
       "      <td>19355736</td>\n",
       "    </tr>\n",
       "    <tr>\n",
       "      <th>09</th>\n",
       "      <td>3.038304e+09</td>\n",
       "      <td>1247666211</td>\n",
       "      <td>20063233</td>\n",
       "    </tr>\n",
       "    <tr>\n",
       "      <th>10</th>\n",
       "      <td>3.139581e+09</td>\n",
       "      <td>1390097002</td>\n",
       "      <td>22446279</td>\n",
       "    </tr>\n",
       "    <tr>\n",
       "      <th>11</th>\n",
       "      <td>3.038304e+09</td>\n",
       "      <td>1417533896</td>\n",
       "      <td>22952318</td>\n",
       "    </tr>\n",
       "    <tr>\n",
       "      <th>12</th>\n",
       "      <td>3.139581e+09</td>\n",
       "      <td>1575677425</td>\n",
       "      <td>24890789</td>\n",
       "    </tr>\n",
       "  </tbody>\n",
       "</table>\n",
       "</div>"
      ],
      "text/plain": [
       "               fips       cases    deaths\n",
       "month                                    \n",
       "01     3.139581e+09   729984096  12216246\n",
       "02     2.835751e+09   773617710  13511297\n",
       "03     3.139581e+09   916857453  16598944\n",
       "04     3.038304e+09   944997168  16938795\n",
       "05     3.139581e+09  1020501942  18153720\n",
       "06     3.038304e+09  1003878600  18001792\n",
       "07     3.139581e+09  1059339596  18857887\n",
       "08     3.139581e+09  1148978762  19355736\n",
       "09     3.038304e+09  1247666211  20063233\n",
       "10     3.139581e+09  1390097002  22446279\n",
       "11     3.038304e+09  1417533896  22952318\n",
       "12     3.139581e+09  1575677425  24890789"
      ]
     },
     "execution_count": 30,
     "metadata": {},
     "output_type": "execute_result"
    }
   ],
   "source": [
    "df_2021.groupby('month').sum()"
   ]
  },
  {
   "cell_type": "markdown",
   "id": "87f1cb36",
   "metadata": {},
   "source": [
    "The highest Covid-19 cases and deaths in 2021 occurred in the 12th month (December)."
   ]
  },
  {
   "cell_type": "markdown",
   "id": "68864b89",
   "metadata": {},
   "source": [
    "## Q2: In which states have the highest number of Covid-19 cases and deaths occurred?"
   ]
  },
  {
   "cell_type": "code",
   "execution_count": 31,
   "id": "556e486b",
   "metadata": {},
   "outputs": [
    {
     "data": {
      "text/html": [
       "<div>\n",
       "<style scoped>\n",
       "    .dataframe tbody tr th:only-of-type {\n",
       "        vertical-align: middle;\n",
       "    }\n",
       "\n",
       "    .dataframe tbody tr th {\n",
       "        vertical-align: top;\n",
       "    }\n",
       "\n",
       "    .dataframe thead th {\n",
       "        text-align: right;\n",
       "    }\n",
       "</style>\n",
       "<table border=\"1\" class=\"dataframe\">\n",
       "  <thead>\n",
       "    <tr style=\"text-align: right;\">\n",
       "      <th></th>\n",
       "      <th>fips</th>\n",
       "      <th>cases</th>\n",
       "      <th>deaths</th>\n",
       "    </tr>\n",
       "    <tr>\n",
       "      <th>state</th>\n",
       "      <th></th>\n",
       "      <th></th>\n",
       "      <th></th>\n",
       "    </tr>\n",
       "  </thead>\n",
       "  <tbody>\n",
       "    <tr>\n",
       "      <th>California</th>\n",
       "      <td>1.017295e+08</td>\n",
       "      <td>174969176</td>\n",
       "      <td>3065113</td>\n",
       "    </tr>\n",
       "    <tr>\n",
       "      <th>Texas</th>\n",
       "      <td>3.232986e+09</td>\n",
       "      <td>160159130</td>\n",
       "      <td>2927740</td>\n",
       "    </tr>\n",
       "    <tr>\n",
       "      <th>Florida</th>\n",
       "      <td>2.319947e+08</td>\n",
       "      <td>138123133</td>\n",
       "      <td>2632238</td>\n",
       "    </tr>\n",
       "    <tr>\n",
       "      <th>New York</th>\n",
       "      <td>5.947449e+08</td>\n",
       "      <td>126307878</td>\n",
       "      <td>8320598</td>\n",
       "    </tr>\n",
       "    <tr>\n",
       "      <th>Illinois</th>\n",
       "      <td>4.795205e+08</td>\n",
       "      <td>82118324</td>\n",
       "      <td>2211390</td>\n",
       "    </tr>\n",
       "  </tbody>\n",
       "</table>\n",
       "</div>"
      ],
      "text/plain": [
       "                    fips      cases   deaths\n",
       "state                                       \n",
       "California  1.017295e+08  174969176  3065113\n",
       "Texas       3.232986e+09  160159130  2927740\n",
       "Florida     2.319947e+08  138123133  2632238\n",
       "New York    5.947449e+08  126307878  8320598\n",
       "Illinois    4.795205e+08   82118324  2211390"
      ]
     },
     "execution_count": 31,
     "metadata": {},
     "output_type": "execute_result"
    }
   ],
   "source": [
    "df_2020.groupby('state').sum().sort_values(ascending=False, by='cases').head()"
   ]
  },
  {
   "cell_type": "code",
   "execution_count": 32,
   "id": "7c265b09",
   "metadata": {},
   "outputs": [
    {
     "data": {
      "text/html": [
       "<div>\n",
       "<style scoped>\n",
       "    .dataframe tbody tr th:only-of-type {\n",
       "        vertical-align: middle;\n",
       "    }\n",
       "\n",
       "    .dataframe tbody tr th {\n",
       "        vertical-align: top;\n",
       "    }\n",
       "\n",
       "    .dataframe thead th {\n",
       "        text-align: right;\n",
       "    }\n",
       "</style>\n",
       "<table border=\"1\" class=\"dataframe\">\n",
       "  <thead>\n",
       "    <tr style=\"text-align: right;\">\n",
       "      <th></th>\n",
       "      <th>fips</th>\n",
       "      <th>cases</th>\n",
       "      <th>deaths</th>\n",
       "    </tr>\n",
       "    <tr>\n",
       "      <th>state</th>\n",
       "      <th></th>\n",
       "      <th></th>\n",
       "      <th></th>\n",
       "    </tr>\n",
       "  </thead>\n",
       "  <tbody>\n",
       "    <tr>\n",
       "      <th>New York</th>\n",
       "      <td>5.947449e+08</td>\n",
       "      <td>126307878</td>\n",
       "      <td>8320598</td>\n",
       "    </tr>\n",
       "    <tr>\n",
       "      <th>New Jersey</th>\n",
       "      <td>2.097732e+08</td>\n",
       "      <td>57403306</td>\n",
       "      <td>3817150</td>\n",
       "    </tr>\n",
       "    <tr>\n",
       "      <th>California</th>\n",
       "      <td>1.017295e+08</td>\n",
       "      <td>174969176</td>\n",
       "      <td>3065113</td>\n",
       "    </tr>\n",
       "    <tr>\n",
       "      <th>Texas</th>\n",
       "      <td>3.232986e+09</td>\n",
       "      <td>160159130</td>\n",
       "      <td>2927740</td>\n",
       "    </tr>\n",
       "    <tr>\n",
       "      <th>Florida</th>\n",
       "      <td>2.319947e+08</td>\n",
       "      <td>138123133</td>\n",
       "      <td>2632238</td>\n",
       "    </tr>\n",
       "  </tbody>\n",
       "</table>\n",
       "</div>"
      ],
      "text/plain": [
       "                    fips      cases   deaths\n",
       "state                                       \n",
       "New York    5.947449e+08  126307878  8320598\n",
       "New Jersey  2.097732e+08   57403306  3817150\n",
       "California  1.017295e+08  174969176  3065113\n",
       "Texas       3.232986e+09  160159130  2927740\n",
       "Florida     2.319947e+08  138123133  2632238"
      ]
     },
     "execution_count": 32,
     "metadata": {},
     "output_type": "execute_result"
    }
   ],
   "source": [
    "df_2020.groupby('state').sum().sort_values(ascending=False, by='deaths').head()"
   ]
  },
  {
   "cell_type": "markdown",
   "id": "e0902182",
   "metadata": {},
   "source": [
    "In 2020, the state with the highest Covid-19 cases is California while the Covid-19 deaths in New York are the highest of any state."
   ]
  },
  {
   "cell_type": "code",
   "execution_count": 33,
   "id": "27e8b2e1",
   "metadata": {},
   "outputs": [
    {
     "data": {
      "text/html": [
       "<div>\n",
       "<style scoped>\n",
       "    .dataframe tbody tr th:only-of-type {\n",
       "        vertical-align: middle;\n",
       "    }\n",
       "\n",
       "    .dataframe tbody tr th {\n",
       "        vertical-align: top;\n",
       "    }\n",
       "\n",
       "    .dataframe thead th {\n",
       "        text-align: right;\n",
       "    }\n",
       "</style>\n",
       "<table border=\"1\" class=\"dataframe\">\n",
       "  <thead>\n",
       "    <tr style=\"text-align: right;\">\n",
       "      <th></th>\n",
       "      <th>fips</th>\n",
       "      <th>cases</th>\n",
       "      <th>deaths</th>\n",
       "    </tr>\n",
       "    <tr>\n",
       "      <th>state</th>\n",
       "      <th></th>\n",
       "      <th></th>\n",
       "      <th></th>\n",
       "    </tr>\n",
       "  </thead>\n",
       "  <tbody>\n",
       "    <tr>\n",
       "      <th>California</th>\n",
       "      <td>1.282479e+08</td>\n",
       "      <td>1496462536</td>\n",
       "      <td>22532428</td>\n",
       "    </tr>\n",
       "    <tr>\n",
       "      <th>Texas</th>\n",
       "      <td>4.473628e+09</td>\n",
       "      <td>1195039278</td>\n",
       "      <td>20088968</td>\n",
       "    </tr>\n",
       "    <tr>\n",
       "      <th>Florida</th>\n",
       "      <td>2.951208e+08</td>\n",
       "      <td>974170111</td>\n",
       "      <td>15333245</td>\n",
       "    </tr>\n",
       "    <tr>\n",
       "      <th>New York</th>\n",
       "      <td>7.502812e+08</td>\n",
       "      <td>775764035</td>\n",
       "      <td>18918470</td>\n",
       "    </tr>\n",
       "    <tr>\n",
       "      <th>Illinois</th>\n",
       "      <td>6.367075e+08</td>\n",
       "      <td>527956595</td>\n",
       "      <td>9306526</td>\n",
       "    </tr>\n",
       "  </tbody>\n",
       "</table>\n",
       "</div>"
      ],
      "text/plain": [
       "                    fips       cases    deaths\n",
       "state                                         \n",
       "California  1.282479e+08  1496462536  22532428\n",
       "Texas       4.473628e+09  1195039278  20088968\n",
       "Florida     2.951208e+08   974170111  15333245\n",
       "New York    7.502812e+08   775764035  18918470\n",
       "Illinois    6.367075e+08   527956595   9306526"
      ]
     },
     "execution_count": 33,
     "metadata": {},
     "output_type": "execute_result"
    }
   ],
   "source": [
    "df_2021.groupby('state').sum().sort_values(ascending=False, by='cases').head()"
   ]
  },
  {
   "cell_type": "code",
   "execution_count": 34,
   "id": "df82d34c",
   "metadata": {},
   "outputs": [
    {
     "data": {
      "text/html": [
       "<div>\n",
       "<style scoped>\n",
       "    .dataframe tbody tr th:only-of-type {\n",
       "        vertical-align: middle;\n",
       "    }\n",
       "\n",
       "    .dataframe tbody tr th {\n",
       "        vertical-align: top;\n",
       "    }\n",
       "\n",
       "    .dataframe thead th {\n",
       "        text-align: right;\n",
       "    }\n",
       "</style>\n",
       "<table border=\"1\" class=\"dataframe\">\n",
       "  <thead>\n",
       "    <tr style=\"text-align: right;\">\n",
       "      <th></th>\n",
       "      <th>fips</th>\n",
       "      <th>cases</th>\n",
       "      <th>deaths</th>\n",
       "    </tr>\n",
       "    <tr>\n",
       "      <th>state</th>\n",
       "      <th></th>\n",
       "      <th></th>\n",
       "      <th></th>\n",
       "    </tr>\n",
       "  </thead>\n",
       "  <tbody>\n",
       "    <tr>\n",
       "      <th>California</th>\n",
       "      <td>1.282479e+08</td>\n",
       "      <td>1496462536</td>\n",
       "      <td>22532428</td>\n",
       "    </tr>\n",
       "    <tr>\n",
       "      <th>Texas</th>\n",
       "      <td>4.473628e+09</td>\n",
       "      <td>1195039278</td>\n",
       "      <td>20088968</td>\n",
       "    </tr>\n",
       "    <tr>\n",
       "      <th>New York</th>\n",
       "      <td>7.502812e+08</td>\n",
       "      <td>775764035</td>\n",
       "      <td>18918470</td>\n",
       "    </tr>\n",
       "    <tr>\n",
       "      <th>Florida</th>\n",
       "      <td>2.951208e+08</td>\n",
       "      <td>974170111</td>\n",
       "      <td>15333245</td>\n",
       "    </tr>\n",
       "    <tr>\n",
       "      <th>Pennsylvania</th>\n",
       "      <td>1.028748e+09</td>\n",
       "      <td>457143273</td>\n",
       "      <td>10025434</td>\n",
       "    </tr>\n",
       "  </tbody>\n",
       "</table>\n",
       "</div>"
      ],
      "text/plain": [
       "                      fips       cases    deaths\n",
       "state                                           \n",
       "California    1.282479e+08  1496462536  22532428\n",
       "Texas         4.473628e+09  1195039278  20088968\n",
       "New York      7.502812e+08   775764035  18918470\n",
       "Florida       2.951208e+08   974170111  15333245\n",
       "Pennsylvania  1.028748e+09   457143273  10025434"
      ]
     },
     "execution_count": 34,
     "metadata": {},
     "output_type": "execute_result"
    }
   ],
   "source": [
    "df_2021.groupby('state').sum().sort_values(ascending=False, by='deaths').head()"
   ]
  },
  {
   "cell_type": "markdown",
   "id": "2cadd2d2",
   "metadata": {},
   "source": [
    "In 2021, the state with the highest Covid-19 cases and deaths is California."
   ]
  },
  {
   "cell_type": "markdown",
   "id": "e08eeaea",
   "metadata": {},
   "source": [
    "### Q2.1: What about the highest percentage of deaths?"
   ]
  },
  {
   "cell_type": "code",
   "execution_count": 35,
   "id": "a7c07761",
   "metadata": {},
   "outputs": [],
   "source": [
    "covid_2020_by_state = df_2020.groupby('state').sum()"
   ]
  },
  {
   "cell_type": "code",
   "execution_count": 36,
   "id": "7260743c",
   "metadata": {},
   "outputs": [],
   "source": [
    "covid_2020_by_state['deaths_percentage'] = round(covid_2020_by_state['deaths']/covid_2020_by_state['cases']*100, 2)"
   ]
  },
  {
   "cell_type": "code",
   "execution_count": 37,
   "id": "a3555c63",
   "metadata": {},
   "outputs": [
    {
     "data": {
      "text/html": [
       "<div>\n",
       "<style scoped>\n",
       "    .dataframe tbody tr th:only-of-type {\n",
       "        vertical-align: middle;\n",
       "    }\n",
       "\n",
       "    .dataframe tbody tr th {\n",
       "        vertical-align: top;\n",
       "    }\n",
       "\n",
       "    .dataframe thead th {\n",
       "        text-align: right;\n",
       "    }\n",
       "</style>\n",
       "<table border=\"1\" class=\"dataframe\">\n",
       "  <thead>\n",
       "    <tr style=\"text-align: right;\">\n",
       "      <th></th>\n",
       "      <th>fips</th>\n",
       "      <th>cases</th>\n",
       "      <th>deaths</th>\n",
       "      <th>deaths_percentage</th>\n",
       "    </tr>\n",
       "    <tr>\n",
       "      <th>state</th>\n",
       "      <th></th>\n",
       "      <th></th>\n",
       "      <th></th>\n",
       "      <th></th>\n",
       "    </tr>\n",
       "  </thead>\n",
       "  <tbody>\n",
       "    <tr>\n",
       "      <th>New Jersey</th>\n",
       "      <td>209773248.0</td>\n",
       "      <td>57403306</td>\n",
       "      <td>3817150</td>\n",
       "      <td>6.65</td>\n",
       "    </tr>\n",
       "    <tr>\n",
       "      <th>New York</th>\n",
       "      <td>594744852.0</td>\n",
       "      <td>126307878</td>\n",
       "      <td>8320598</td>\n",
       "      <td>6.59</td>\n",
       "    </tr>\n",
       "    <tr>\n",
       "      <th>Connecticut</th>\n",
       "      <td>21006534.0</td>\n",
       "      <td>17214231</td>\n",
       "      <td>1119863</td>\n",
       "      <td>6.51</td>\n",
       "    </tr>\n",
       "    <tr>\n",
       "      <th>Massachusetts</th>\n",
       "      <td>103883737.0</td>\n",
       "      <td>37419301</td>\n",
       "      <td>2222455</td>\n",
       "      <td>5.94</td>\n",
       "    </tr>\n",
       "    <tr>\n",
       "      <th>Michigan</th>\n",
       "      <td>602265756.0</td>\n",
       "      <td>42112852</td>\n",
       "      <td>1837617</td>\n",
       "      <td>4.36</td>\n",
       "    </tr>\n",
       "  </tbody>\n",
       "</table>\n",
       "</div>"
      ],
      "text/plain": [
       "                      fips      cases   deaths  deaths_percentage\n",
       "state                                                            \n",
       "New Jersey     209773248.0   57403306  3817150               6.65\n",
       "New York       594744852.0  126307878  8320598               6.59\n",
       "Connecticut     21006534.0   17214231  1119863               6.51\n",
       "Massachusetts  103883737.0   37419301  2222455               5.94\n",
       "Michigan       602265756.0   42112852  1837617               4.36"
      ]
     },
     "execution_count": 37,
     "metadata": {},
     "output_type": "execute_result"
    }
   ],
   "source": [
    "covid_2020_by_state.sort_values(ascending=False, by='deaths_percentage').head()"
   ]
  },
  {
   "cell_type": "markdown",
   "id": "95f09a24",
   "metadata": {},
   "source": [
    "New Jersey is the state with the highest percentage of deaths from Covid-19 in 2020."
   ]
  },
  {
   "cell_type": "code",
   "execution_count": 38,
   "id": "f15d8485",
   "metadata": {},
   "outputs": [],
   "source": [
    "covid_2021_by_state = df_2021.groupby('state').sum()"
   ]
  },
  {
   "cell_type": "code",
   "execution_count": 39,
   "id": "3d5ac6b4",
   "metadata": {},
   "outputs": [],
   "source": [
    "covid_2021_by_state['deaths_percentage'] = round(covid_2021_by_state['deaths']/covid_2021_by_state['cases']*100, 2)"
   ]
  },
  {
   "cell_type": "code",
   "execution_count": 40,
   "id": "7599bd31",
   "metadata": {},
   "outputs": [
    {
     "data": {
      "text/html": [
       "<div>\n",
       "<style scoped>\n",
       "    .dataframe tbody tr th:only-of-type {\n",
       "        vertical-align: middle;\n",
       "    }\n",
       "\n",
       "    .dataframe tbody tr th {\n",
       "        vertical-align: top;\n",
       "    }\n",
       "\n",
       "    .dataframe thead th {\n",
       "        text-align: right;\n",
       "    }\n",
       "</style>\n",
       "<table border=\"1\" class=\"dataframe\">\n",
       "  <thead>\n",
       "    <tr style=\"text-align: right;\">\n",
       "      <th></th>\n",
       "      <th>fips</th>\n",
       "      <th>cases</th>\n",
       "      <th>deaths</th>\n",
       "      <th>deaths_percentage</th>\n",
       "    </tr>\n",
       "    <tr>\n",
       "      <th>state</th>\n",
       "      <th></th>\n",
       "      <th></th>\n",
       "      <th></th>\n",
       "      <th></th>\n",
       "    </tr>\n",
       "  </thead>\n",
       "  <tbody>\n",
       "    <tr>\n",
       "      <th>New Jersey</th>\n",
       "      <td>2.607710e+08</td>\n",
       "      <td>370762769</td>\n",
       "      <td>9406432</td>\n",
       "      <td>2.54</td>\n",
       "    </tr>\n",
       "    <tr>\n",
       "      <th>New York</th>\n",
       "      <td>7.502812e+08</td>\n",
       "      <td>775764035</td>\n",
       "      <td>18918470</td>\n",
       "      <td>2.44</td>\n",
       "    </tr>\n",
       "    <tr>\n",
       "      <th>Massachusetts</th>\n",
       "      <td>1.278215e+08</td>\n",
       "      <td>263633506</td>\n",
       "      <td>6429075</td>\n",
       "      <td>2.44</td>\n",
       "    </tr>\n",
       "    <tr>\n",
       "      <th>Connecticut</th>\n",
       "      <td>2.630336e+07</td>\n",
       "      <td>126903933</td>\n",
       "      <td>2976567</td>\n",
       "      <td>2.35</td>\n",
       "    </tr>\n",
       "    <tr>\n",
       "      <th>Pennsylvania</th>\n",
       "      <td>1.028748e+09</td>\n",
       "      <td>457143273</td>\n",
       "      <td>10025434</td>\n",
       "      <td>2.19</td>\n",
       "    </tr>\n",
       "  </tbody>\n",
       "</table>\n",
       "</div>"
      ],
      "text/plain": [
       "                       fips      cases    deaths  deaths_percentage\n",
       "state                                                              \n",
       "New Jersey     2.607710e+08  370762769   9406432               2.54\n",
       "New York       7.502812e+08  775764035  18918470               2.44\n",
       "Massachusetts  1.278215e+08  263633506   6429075               2.44\n",
       "Connecticut    2.630336e+07  126903933   2976567               2.35\n",
       "Pennsylvania   1.028748e+09  457143273  10025434               2.19"
      ]
     },
     "execution_count": 40,
     "metadata": {},
     "output_type": "execute_result"
    }
   ],
   "source": [
    "covid_2021_by_state.sort_values(ascending=False, by='deaths_percentage').head()"
   ]
  },
  {
   "cell_type": "markdown",
   "id": "84a04183",
   "metadata": {},
   "source": [
    "New Jersey is the state with the highest percentage of deaths from Covid-19 in 2021."
   ]
  }
 ],
 "metadata": {
  "kernelspec": {
   "display_name": "Python 3",
   "language": "python",
   "name": "python3"
  },
  "language_info": {
   "codemirror_mode": {
    "name": "ipython",
    "version": 3
   },
   "file_extension": ".py",
   "mimetype": "text/x-python",
   "name": "python",
   "nbconvert_exporter": "python",
   "pygments_lexer": "ipython3",
   "version": "3.8.8"
  }
 },
 "nbformat": 4,
 "nbformat_minor": 5
}
